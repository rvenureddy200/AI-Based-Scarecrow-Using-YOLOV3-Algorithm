{
 "cells": [
  {
   "cell_type": "code",
   "execution_count": 1,
   "id": "45a4d22b",
   "metadata": {},
   "outputs": [
    {
     "name": "stdout",
     "output_type": "stream",
     "text": [
      "Requirement already satisfied: opencv-python in c:\\users\\91630\\anaconda3\\lib\\site-packages (4.8.0.74)\n",
      "Requirement already satisfied: numpy>=1.21.2 in c:\\users\\91630\\anaconda3\\lib\\site-packages (from opencv-python) (1.24.3)\n"
     ]
    }
   ],
   "source": [
    "!pip install opencv-python"
   ]
  },
  {
   "cell_type": "code",
   "execution_count": 1,
   "id": "b1410ed8",
   "metadata": {
    "scrolled": true
   },
   "outputs": [
    {
     "name": "stdout",
     "output_type": "stream",
     "text": [
      "pygame 2.5.0 (SDL 2.28.0, Python 3.11.3)\n",
      "Hello from the pygame community. https://www.pygame.org/contribute.html\n"
     ]
    }
   ],
   "source": [
    "import pygame\n",
    "import cv2\n",
    "import numpy as np\n",
    "import pygame\n",
    "from pygame import mixer\n",
    "from playsound import playsound\n",
    "import os\n",
    "cap = cv2.VideoCapture(0)\n",
    "wht = 320\n",
    "confThreshold = 0.5\n",
    "nmsThreshold = 0.3\n",
    "classesFile = 'coco.names'\n",
    "classNames = []\n",
    "with open(classesFile,'rt') as f:\n",
    "    classNames = f.read().rstrip('\\n').split('\\n')\n",
    "modelConfi = 'yolov3.cfg'\n",
    "modelwei = 'yolov3.weights'\n",
    "net = cv2.dnn.readNetFromDarknet(modelConfi,modelwei)\n",
    "net.setPreferableBackend(cv2.dnn.DNN_BACKEND_OPENCV)\n",
    "net.setPreferableTarget(cv2.dnn.DNN_TARGET_CPU)\n",
    "\n",
    "def findobj(outputs,img):\n",
    "    ht,wt,ct= img.shape\n",
    "    bbox=[]\n",
    "    classIds=[]\n",
    "    confs=[]\n",
    "\n",
    "    for output in outputs:\n",
    "        for det in output:\n",
    "            scores = det[5:]\n",
    "            classId = np.argmax(scores)\n",
    "            confidence =scores[classId]\n",
    "            if confidence > confThreshold:\n",
    "                w,h=int(det[2]*wt),int(det[3]*ht)\n",
    "                x,y = int((det[0]*wt)-w/2),int((det[1]*ht)-h/2)\n",
    "                bbox.append([x,y,w,h])\n",
    "                classIds.append(classId)\n",
    "                confs.append(float(confidence))\n",
    "    indices = cv2.dnn.NMSBoxes(bbox,confs,confThreshold,nmsThreshold)\n",
    "    for i in indices:\n",
    "        box = bbox[i]\n",
    "        x,y,w,h = box[0],box[1],box[2],box[3]\n",
    "        cv2.rectangle(img,(x,y),(x+w,y+h),(255,0,255),2)\n",
    "        cv2.putText(img,f'{classNames[classIds[i]].upper()} {int(confs[i]*100)}%',(x,y-10),cv2.FONT_HERSHEY_SIMPLEX,0.6,(255,0,2))\n",
    "        x=classNames[classIds[i]]\n",
    "        if x==\"bird\" or x==\"horse\" or x==\"truck\" or x==\"elephant\" or x==\"bear\" or x==\"zebra\" or x==\"giraffe\":\n",
    "            os.system('C:\\\\Users\\\\91630\\\\OneDrive\\\\Desktop\\\\sounds\\\\sounds\\\\CrackersSound.mp3')\n",
    "        elif x==\"cat\" or x==\"dog\" or x==\"sheep\":\n",
    "            os.system('C:\\\\Users\\\\91630\\\\OneDrive\\\\Desktop\\\\sounds\\\\sounds\\\\LionRoarSound.mp3')\n",
    "\n",
    "while True:\n",
    "    outputnames = []\n",
    "    success, img = cap.read()\n",
    "    blob=cv2.dnn.blobFromImage(img,1/255,(wht,wht),[0,0,0],1,crop=False)\n",
    "    net.setInput(blob)\n",
    "    layer_names = net.getLayerNames()\n",
    "    outputnames = [layer_names[i - 1] for i in net.getUnconnectedOutLayers()]\n",
    "    outputs = net.forward(outputnames)\n",
    "    findobj(outputs,img)\n",
    "    cv2.imshow('image',img)\n",
    "    k=cv2.waitKey(50)\n",
    "    if k==27:\n",
    "       break\n",
    "cap.release()\n",
    "cv2.destroyAllWindows()\n"
   ]
  },
  {
   "cell_type": "code",
   "execution_count": 2,
   "id": "3eeb1865",
   "metadata": {},
   "outputs": [
    {
     "data": {
      "text/plain": [
       "'C:\\\\Users\\\\91630\\\\scarecrow using AI'"
      ]
     },
     "execution_count": 2,
     "metadata": {},
     "output_type": "execute_result"
    }
   ],
   "source": [
    "os.getcwd()"
   ]
  },
  {
   "cell_type": "code",
   "execution_count": null,
   "id": "636b9cad",
   "metadata": {},
   "outputs": [],
   "source": []
  },
  {
   "cell_type": "code",
   "execution_count": null,
   "id": "ec68f3af",
   "metadata": {},
   "outputs": [],
   "source": []
  },
  {
   "cell_type": "code",
   "execution_count": null,
   "id": "521516a1",
   "metadata": {},
   "outputs": [],
   "source": []
  }
 ],
 "metadata": {
  "kernelspec": {
   "display_name": "Python 3 (ipykernel)",
   "language": "python",
   "name": "python3"
  },
  "language_info": {
   "codemirror_mode": {
    "name": "ipython",
    "version": 3
   },
   "file_extension": ".py",
   "mimetype": "text/x-python",
   "name": "python",
   "nbconvert_exporter": "python",
   "pygments_lexer": "ipython3",
   "version": "3.11.3"
  }
 },
 "nbformat": 4,
 "nbformat_minor": 5
}
